{
 "metadata": {
  "name": ""
 },
 "nbformat": 3,
 "nbformat_minor": 0,
 "worksheets": [
  {
   "cells": [
    {
     "cell_type": "code",
     "collapsed": false,
     "input": [
      "import pandas as pd\n",
      "import enchant\n",
      "import re\n",
      "import numpy as np\n",
      "import nltk\n",
      "import string\n",
      "import yaml\n",
      "from nltk.stem.porter import PorterStemmer\n"
     ],
     "language": "python",
     "metadata": {},
     "outputs": [],
     "prompt_number": 3
    },
    {
     "cell_type": "code",
     "collapsed": false,
     "input": [
      "\"\"\"get training dataset\"\"\"\n",
      "\n",
      "## Read in data\n",
      "#location_dir='/Users/zyenge/Dropbox/climatechangeviz/'\n",
      "location_dir='../'\n",
      "train=pd.read_csv(location_dir+'trainingandtestdata/training.1600000.processed.noemoticon.csv',header=None)\n",
      "test=pd.read_csv(location_dir+'trainingandtestdata/testdata.manual.2009.06.14.csv',header=None)\n",
      "train_df=pd.DataFrame({'tweets':train[5],'polar':train[0]})\n",
      "test_df=pd.DataFrame({'tweets':test[5],'polar':test[0]})\n",
      "\n",
      "# a subset\n",
      "train_subset=pd.concat([train_df[:1000],train_df[-100:]])\n"
     ],
     "language": "python",
     "metadata": {},
     "outputs": [],
     "prompt_number": 162
    },
    {
     "cell_type": "code",
     "collapsed": false,
     "input": [
      "\"\"\"Pre-process:\n",
      "        1. remove url, @user,# -> ',', emoticon -- http://datagenetics.com/blog/october52012/index.html\n",
      "        2. if spell check is false:\n",
      "            if it's a word \"if re.match('^[a-zA-Z\\']+$',\"trainingLate\"):\"\n",
      "             try find in replace keyword dict\n",
      "             if not found: d.suggest[0]\n",
      "             elif no suggestion: shorten\n",
      "             then spell check...\n",
      "\n",
      "\n",
      "        3. tagging \n",
      "        4. stemming  \n",
      "        5. remove '-','_','(',')', etc \n",
      "        \n",
      "\"\"\""
     ],
     "language": "python",
     "metadata": {},
     "outputs": [
      {
       "metadata": {},
       "output_type": "pyout",
       "prompt_number": 163,
       "text": [
        "'Pre-process:\\n        1. remove url, @user,# -> \\',\\', emoticon -- http://datagenetics.com/blog/october52012/index.html\\n        2. if spell check is false:\\n            if it\\'s a word \"if re.match(\\'^[a-zA-Z\\']+$\\',\"trainingLate\"):\"\\n             try find in replace keyword dict\\n             if not found: d.suggest[0]\\n             elif no suggestion: shorten\\n             then spell check...\\n\\n\\n        3. tagging \\n        4. stemming  \\n        5. remove \\'-\\',\\'_\\',\\'(\\',\\')\\', etc \\n        \\n'"
       ]
      }
     ],
     "prompt_number": 163
    },
    {
     "cell_type": "code",
     "collapsed": false,
     "input": [
      "\"\"\"############### ---Pre-process--- #################\"\"\"\n",
      "\n",
      "\"\"\"get emoticons\"\"\"\n",
      "pos_emoticons=set([])\n",
      "neg_emoticons=set([])\n",
      "#location_dir='/Users/zyenge/Dropbox/climatechangeviz/'\n",
      "location_dir = ''\n",
      "\n",
      "with open(location_dir+'pos_emoticon.txt') as f:\n",
      "    for line in f:\n",
      "        pos_emoticons.add(line.rstrip('\\n'))\n",
      "with open(location_dir+'neg_emoticon.txt') as f:\n",
      "    for line in f:\n",
      "        neg_emoticons.add(line.rstrip('\\n'))\n",
      "\n",
      "\"\"\"#######################################\"\"\"\n",
      "\n",
      "\"\"\"1. remove url, @user, \n",
      "    2. # -> ',' \n",
      "    3. detect and remove emoticon\"\"\"\n",
      "\n",
      "def strip_tweet(tweet):\n",
      "    no_url=re.sub('((www\\.[^\\s]+)|(http[^\\s]+))','',tweet)\n",
      "    #print no_url\n",
      "    no_user=re.sub('@[^\\s:#]+','',no_url)\n",
      "    #print no_user\n",
      "    no_hashtag=re.sub(r'#([^\\s#]+)', r'\\1,', no_user)\n",
      "    #print no_hashtag\n",
      "    return no_hashtag   \n",
      "        \n",
      "def find_emoticons(tweet):\n",
      "    c=0\n",
      "    count=np.array([0,0])\n",
      "    while c< len(tweet):\n",
      "        two_char=tweet[c:c+2]\n",
      "        three_char=tweet[c:c+3]\n",
      "        if two_char in pos_emoticons:\n",
      "            tweet=tweet[:c]+' '+tweet[c+2:]\n",
      "            count+=np.array([1,0])\n",
      "        elif three_char in pos_emoticons:\n",
      "            tweet=tweet[:c]+' '+tweet[c+3:]\n",
      "            count+=np.array([1,0])\n",
      "        elif two_char in neg_emoticons:\n",
      "            tweet=tweet[:c]+' '+tweet[c+2:]\n",
      "            count+=np.array([0,1])\n",
      "        elif three_char in neg_emoticons:\n",
      "            tweet=tweet[:c]+' '+tweet[c+3:]\n",
      "            count+=np.array([0,1])\n",
      "        c+=1\n",
      "    return (tweet,count)\n"
     ],
     "language": "python",
     "metadata": {},
     "outputs": [],
     "prompt_number": 164
    },
    {
     "cell_type": "code",
     "collapsed": false,
     "input": [
      "\"\"\"spell check and replace word\n",
      "\n",
      "if spell check is false:\n",
      "            if it's a word \"if re.match('^[a-zA-Z\\']+$',\"trainingLate\"):\"\n",
      "             try find in replace keyword dict\n",
      "             if not found: d.suggest[0]\n",
      "             elif no suggestion: shorten\n",
      "             then spell check...\n",
      "             \n",
      "\"\"\"\n",
      "\n",
      "with open(\"web_words.yaml\", 'r') as f:\n",
      "    web_dict = yaml.load(f)\n",
      "\n",
      "d=enchant.Dict('en-US')\n",
      "def shorten_word(word):\n",
      "    shortened=''\n",
      "    for c,i in enumerate(word):\n",
      "        if c<len(word)-1 and i!=word[c+1] or c==len(word)-1:\n",
      "            shortened=shortened+i\n",
      "    return shortened\n",
      "\n",
      "def replace_word(word):\n",
      "    try:\n",
      "        if word is '':\n",
      "            return word\n",
      "        elif word in web_dict:\n",
      "            return web_dict[word]\n",
      "        else:\n",
      "            \n",
      "            if d.check(word)==True:\n",
      "                return word\n",
      "            elif len(d.suggest(word))!=0: \n",
      "                return d.suggest(word)[0]\n",
      "            elif len(d.suggest(word))==0 and shorten_word(word)==word:\n",
      "                return word\n",
      "            else:\n",
      "                return replace_word(shorten_word(word))\n",
      "    except:\n",
      "        print word\n",
      "        return word\n",
      "\n",
      "\n",
      "puncset=set(string.punctuation) \n",
      "def spell_check(tweet):    \n",
      "    text_list = tweet.split()\n",
      "    for i in range(0,len(text_list)):\n",
      "        temp = ''.join([e if e not in puncset else '' for e in text_list[i]])\n",
      "        clean_word = replace_word(temp)\n",
      "        text_list[i] = text_list[i].replace(temp,clean_word)\n",
      "    return ' '.join(text_list)\n",
      "\n",
      "### Tagging\n",
      "\n",
      "def tagger(tags,text,pos_tagger,isBoolean): \n",
      "    _tags = {t:0 for t in tags}\n",
      "    processed_count = 0\n",
      "    processed_count +=1\n",
      "    text_tags = pos_tagger(nltk.word_tokenize(text))\n",
      "    #boolean approach - is pos_tag in tweet?\n",
      "    for elem in text_tags:\n",
      "        if elem[1] in _tags:\n",
      "            _tags[elem[1]] +=1\n",
      "            \n",
      "    __tags = []\n",
      "    if isBoolean:\n",
      "        for t in tags:\n",
      "            __tags.append(int(_tags[t]>0))\n",
      "    else:\n",
      "        for t in tags:\n",
      "            __tags.append(_tags[t])\n",
      "    return np.array(__tags)\n",
      "    "
     ],
     "language": "python",
     "metadata": {},
     "outputs": [],
     "prompt_number": 165
    },
    {
     "cell_type": "code",
     "collapsed": false,
     "input": [
      "def remove_punc(tweet):\n",
      "    return ''.join([e if e not in puncset else ' ' for e in tweet])\n",
      "def stemmer(tweet):\n",
      "    p = PorterStemmer()\n",
      "    text_list = tweet.split()\n",
      "    for i in range(0,len(text_list)):\n",
      "        text_list[i] = p.stem(text_list[i])   \n",
      "    return ' '.join(text_list)\n"
     ],
     "language": "python",
     "metadata": {},
     "outputs": [],
     "prompt_number": 166
    },
    {
     "cell_type": "code",
     "collapsed": false,
     "input": [
      "\"\"\"\n",
      "PREPROCESSING STEPS\n",
      "\"\"\"\n",
      "#input tweet\n",
      "test_tweet='@biggestfan#justin#lmao,http://somelink_to_someplace.com i <3 justin b, you\\'s r the best! xoxo'\n",
      "\n",
      "\n",
      "def pre_process_a_tweet(tweet):\n",
      "    # 0. input tweet\n",
      "    print \"original: \\n\", tweet, '\\n'\n",
      "\n",
      "    # 1. clean urls/@/#, featurize/strip emoticons\n",
      "    tweet_stripped_emoticons = find_emoticons(strip_tweet(tweet))\n",
      "    print \"no url, no #: \\n\", tweet_stripped_emoticons[0], '\\n'\n",
      "    \n",
      "    # 2. spell check tweet\n",
      "    tweet_stripped = spell_check(tweet_stripped_emoticons[0])\n",
      "    print \"spell checked: \\n\", tweet_stripped, '\\n'\n",
      "    \n",
      "    # 3. pos tagging tweet using nltk.pos_tag,isBoolean=True\n",
      "    #tags of interest\n",
      "    tweet_tagger=tagger(pos_tags,tweet_stripped,nltk.pos_tag,True)\n",
      "    print \"tagger: \\n\", tweet_tagger, '\\n'\n",
      "    \n",
      "    #4. stemming\n",
      "    tweet_stripped_tagged_stemmed = stemmer(tweet_stripped)\n",
      "    print \"stemmed: \\n\",tweet_stripped_tagged_stemmed, '\\n'\n",
      "    \n",
      "    # 4. remove punctuation\n",
      "    tweet_stripped_tagged_stemmed_nopunc = remove_punc(tweet_stripped_tagged_stemmed )\n",
      "    print \"no punctuation: \\n\",tweet_stripped_tagged_stemmed_nopunc, '\\n'\n",
      "\n",
      "    return(tweet_stripped_tagged_stemmed_nopunc, tweet_stripped_emoticons[1],tweet_tagger)\n",
      "pre_process_a_tweet(test_tweet)"
     ],
     "language": "python",
     "metadata": {},
     "outputs": [
      {
       "output_type": "stream",
       "stream": "stdout",
       "text": [
        "original: \n",
        "@biggestfan#justin#lmao,http://somelink_to_someplace.com i <3 justin b, you's r the best! xoxo \n",
        "\n",
        "no url, no #: \n",
        "justin,lmao,, i   justin b, you's r the best! xoxo \n",
        "\n",
        "spell checked: \n",
        "justin,lmao,, i Justin b, you's are the best! xoxo \n",
        "\n",
        "tagger: \n",
        "[0 1 0 0 1 0] \n",
        "\n",
        "stemmed: \n",
        "justin,lmao,, i Justin b, you' are the best! xoxo \n",
        "\n",
        "no punctuation: \n",
        "justin lmao   i Justin b  you  are the best  xoxo \n",
        "\n"
       ]
      },
      {
       "metadata": {},
       "output_type": "pyout",
       "prompt_number": 167,
       "text": [
        "('justin lmao   i Justin b  you  are the best  xoxo',\n",
        " array([1, 0]),\n",
        " array([0, 1, 0, 0, 1, 0]))"
       ]
      }
     ],
     "prompt_number": 167
    },
    {
     "cell_type": "code",
     "collapsed": false,
     "input": [
      "def pre_process_a_tweet(tweet):\n",
      "    tweet_stripped_emoticons = find_emoticons(strip_tweet(tweet))\n",
      "    tweet_stripped = spell_check(tweet_stripped_emoticons[0])\n",
      "    tweet_tagger=tagger(pos_tags,tweet_stripped,nltk.pos_tag,True)\n",
      "    tweet_stripped_tagged_stemmed = stemmer(tweet_stripped)\n",
      "    tweet_stripped_tagged_stemmed_nopunc = remove_punc(tweet_stripped_tagged_stemmed )\n",
      "    return(tweet_stripped_tagged_stemmed_nopunc, tweet_stripped_emoticons[1],tweet_tagger)\n",
      "\n",
      "\n",
      "\n",
      "#Feature selection \n",
      "from sklearn.feature_extraction.text import CountVectorizer\n",
      "from nltk.corpus import stopwords\n",
      "\n",
      "def GetStopWords():\n",
      "    stopwords_set=set(stopwords.words('english'))\n",
      "    stopwords_set.discard('not')\n",
      "    stopwords_set.discard('no')\n",
      "    stopwords_set.add('rt')\n",
      "    stopwords_list=list(stopwords_set)\n",
      "    return stopwords_list\n",
      "pos_tags = ['CC','NN','VB','JJ','NNP','RB']\n",
      "\n",
      "def fit_transform(X,features):\n",
      "    \"\"\"X is tweet column \"\"\"\n",
      "    CV=CountVectorizer(ngram_range=(1, 3), max_features=features, stop_words=GetStopWords(),decode_error= 'ignore', binary=False)\n",
      "    CV.fit(X)\n",
      "    fea = CV.transform(X)\n",
      "    feature_transformer=CV\n",
      "    if hasattr(fea, \"toarray\"):\n",
      "        extracted=fea.toarray()\n",
      "    return (extracted,feature_transformer)\n"
     ],
     "language": "python",
     "metadata": {},
     "outputs": [],
     "prompt_number": 168
    },
    {
     "cell_type": "code",
     "collapsed": false,
     "input": [
      "from sklearn.cross_validation import train_test_split\n",
      "\n",
      "#training set data frame with two columns, 'tweets' and 'polar'[ity]\n",
      "#also concatenates polarity as of now\n",
      "def build_feature_matrix(train_subset,numfeatures):\n",
      "    #build feature vector\n",
      "    emoticon_feature=[]\n",
      "    pos_tag_feature=[]\n",
      "    tweets_list=[]\n",
      "    for i in train_subset['tweets']:\n",
      "        processed_tweet=pre_process_a_tweet(i)\n",
      "        tweets_list.append(processed_tweet[0])\n",
      "        #emoticon features\n",
      "        emoticon_feature.append(processed_tweet[1])\n",
      "        #POS features\n",
      "        pos_tag_feature.append(processed_tweet[2])\n",
      "        \n",
      "    text_features, transformer=fit_transform(np.array(tweets_list),numfeatures)\n",
      "    text_features=np.hstack((text_features,pd.DataFrame(emoticon_feature),pd.DataFrame(pos_tag_feature)))\n",
      "    return text_features,transformer"
     ],
     "language": "python",
     "metadata": {},
     "outputs": [],
     "prompt_number": 169
    },
    {
     "cell_type": "code",
     "collapsed": false,
     "input": [
      "def feature_extract(tweet, transformer):\n",
      "    preprocessed_tweet=pre_process_a_tweet(tweet)\n",
      "    transformed_features=transformer.transform([preprocessed_tweet[0]]).toarray().flatten()\n",
      "    return np.hstack((transformed_features,preprocessed_tweet[1],preprocessed_tweet[2]))\n",
      "#feature_extract(':(, :(, :(',transformer)"
     ],
     "language": "python",
     "metadata": {},
     "outputs": [],
     "prompt_number": 171
    },
    {
     "cell_type": "code",
     "collapsed": false,
     "input": [
      "#print train_subset[:1]['tweets'][0]\n",
      "rfc_clf.predict(feature_extract(train_subset[:1]['tweets'][0],transformer))"
     ],
     "language": "python",
     "metadata": {},
     "outputs": [
      {
       "metadata": {},
       "output_type": "pyout",
       "prompt_number": 176,
       "text": [
        "array([0])"
       ]
      }
     ],
     "prompt_number": 176
    },
    {
     "cell_type": "code",
     "collapsed": false,
     "input": [
      "feature_matrix,transformer = build_feature_matrix(train_subset,300)\n",
      "train_features,test_features,train_labels,test_labels = train_test_split(feature_matrix,pd.DataFrame(train_subset['polar']),test_size=0.20)\n",
      "train_labels = np.ravel(train_labels)\n",
      "test_labels = np.ravel(test_labels)\n"
     ],
     "language": "python",
     "metadata": {},
     "outputs": [],
     "prompt_number": 172
    },
    {
     "cell_type": "code",
     "collapsed": false,
     "input": [
      "\"\"\"\n",
      "Classifiers Below\n",
      "\"\"\"\n",
      "from sklearn.metrics import precision_recall_fscore_support\n",
      "from sklearn.metrics import precision_recall_curve"
     ],
     "language": "python",
     "metadata": {},
     "outputs": [],
     "prompt_number": 117
    },
    {
     "cell_type": "code",
     "collapsed": false,
     "input": [
      "from sklearn.ensemble import RandomForestClassifier\n",
      "rfc_clf = RandomForestClassifier(n_estimators=100,verbose=0,n_jobs=1,random_state=None)\n",
      "rfc_clf.fit(train_features,train_labels)\n",
      "rfc_clf_predictions=rfc_clf.predict(test_features)\n",
      "print rfc_clf.score(test_features,test_labels)\n",
      "#print precision_recall_fscore_support(test_labels,rfc_clf_predictions,pos_label='4')"
     ],
     "language": "python",
     "metadata": {},
     "outputs": [
      {
       "output_type": "stream",
       "stream": "stdout",
       "text": [
        "0.890909090909\n"
       ]
      }
     ],
     "prompt_number": 173
    },
    {
     "cell_type": "code",
     "collapsed": false,
     "input": [
      "from sklearn.naive_bayes import MultinomialNB\n",
      "mnb_clf = MultinomialNB(alpha=1.0,fit_prior=True,class_prior=None)\n",
      "mnb_clf.fit(train_features,train_labels)\n",
      "mnb_clf_predictions=mnb_clf.predict(test_features)\n",
      "print mnb_clf.score(test_features,test_labels)\n",
      "print precision_recall_fscore_support(test_labels,mnb_clf_predictions,pos_label='4')"
     ],
     "language": "python",
     "metadata": {},
     "outputs": [
      {
       "output_type": "stream",
       "stream": "stdout",
       "text": [
        "0.6775\n",
        "(array([ 0.635,  0.72 ]), array([ 0.69398907,  0.66359447]), array([ 0.66318538,  0.69064748]), array([183, 217]))\n"
       ]
      }
     ],
     "prompt_number": 119
    },
    {
     "cell_type": "code",
     "collapsed": false,
     "input": [
      "from sklearn.linear_model import LogisticRegression\n",
      "lr_clf = LogisticRegression()\n",
      "lr_clf.fit(train_features,train_labels)\n",
      "lr_clf_predictions=lr_clf.predict(test_features)\n",
      "print lr_clf.score(test_features,test_labels)\n",
      "print precision_recall_fscore_support(test_labels,lr_clf_predictions,pos_label='4')"
     ],
     "language": "python",
     "metadata": {},
     "outputs": [
      {
       "output_type": "stream",
       "stream": "stdout",
       "text": [
        "0.6925\n",
        "(array([ 0.66129032,  0.71962617]), array([ 0.67213115,  0.70967742]), array([ 0.66666667,  0.71461717]), array([183, 217]))\n"
       ]
      }
     ],
     "prompt_number": 120
    },
    {
     "cell_type": "code",
     "collapsed": false,
     "input": [
      "from sklearn.svm import SVC\n",
      "#if kernel = 'rbf', score is quite low\n",
      "svm_clf = SVC(kernel='linear')\n",
      "svm_clf.fit(train_features,train_labels)\n",
      "svm_clf_predictions = svm_clf.predict(test_features)\n",
      "print svm_clf.score(test_features,test_labels)\n",
      "print precision_recall_fscore_support(test_labels,svm_clf_predictions,pos_label='4')"
     ],
     "language": "python",
     "metadata": {},
     "outputs": [
      {
       "output_type": "stream",
       "stream": "stdout",
       "text": [
        "0.6775\n",
        "(array([ 0.65168539,  0.6981982 ]), array([ 0.63387978,  0.71428571]), array([ 0.64265928,  0.70615034]), array([183, 217]))\n"
       ]
      }
     ],
     "prompt_number": 121
    },
    {
     "cell_type": "code",
     "collapsed": false,
     "input": [
      "from sklearn.metrics import precision_recall_curve\n",
      "from sklearn.metrics import auc\n",
      "import pylab as pl\n",
      "\n",
      "probas_pred = mnb_clf.predict_proba(test_features)\n",
      "test_labels_int = np.array([int(int(e)>0) for e in test_labels])\n",
      "\n",
      "precision_rf, recall_rf, thresholds_rf = precision_recall_curve(test_labels_int, rfc_clf_predictions)\n",
      "precision_mnb, recall_mnb, thresholds_mnb = precision_recall_curve(test_labels_int, mnb_clf_predictions)\n",
      "precision_lr, recall_lr, thresholds_lr = precision_recall_curve(test_labels_int, lr_clf_predictions)\n",
      "precision_svm, recall_svm, thresholds_svm = precision_recall_curve(test_labels_int, svm_clf_predictions)\n",
      "\n",
      "#precision, recall, thresholds = precision_recall_curve(test_labels_int, probas_pred[:,1])\n",
      "area_mnb = auc(recall_mnb, precision_mnb)\n",
      "area_rf = auc(recall_rf, precision_rf)\n",
      "area_lr = auc(recall_lr, precision_lr)\n",
      "area_svm = auc(recall_svm, precision_svm)\n",
      "\n",
      "print(\"Multinomial Bayes - Area Under Curve: %0.2f\" % area_mnb)\n",
      "print(\"Random Forest - Area Under Curve: %0.2f\" % area_rf)\n",
      "print(\"Logistic Regression - Area Under Curve: %0.2f\" % area_lr)\n",
      "print(\"SVM - Area Under Curve: %0.2f\" % area_svm)\n",
      "\n",
      "pl.clf()\n",
      "pl.plot(recall_mnb, precision_mnb, label='Multinomial Bayes curve')\n",
      "pl.plot(recall_rf, precision_rf, label='Random Forest curve')\n",
      "pl.plot(recall_lr, precision_lr, label='Logistic Regression curve')\n",
      "pl.plot(recall_svm, precision_svm, label='SVM curve')\n",
      "\n",
      "pl.xlabel('Recall')\n",
      "pl.ylabel('Precision')\n",
      "pl.ylim([0.0, 1.05])\n",
      "pl.xlim([0.0, 1.0])\n",
      "pl.title('Precision-Recall Curve')\n",
      "pl.legend(loc=\"lower left\")\n",
      "pl.show()\n"
     ],
     "language": "python",
     "metadata": {},
     "outputs": [
      {
       "output_type": "stream",
       "stream": "stdout",
       "text": [
        "Multinomial Bayes - Area Under Curve: 0.78\n",
        "Random Forest - Area Under Curve: 0.80\n",
        "Logistic Regression - Area Under Curve: 0.79\n",
        "SVM - Area Under Curve: 0.78\n"
       ]
      },
      {
       "metadata": {},
       "output_type": "display_data",
       "png": "[encoded data removed]",
       "text": [
        "<matplotlib.figure.Figure at 0x11a9f73d0>"
       ]
      }
     ],
     "prompt_number": 122
    },
    {
     "cell_type": "code",
     "collapsed": false,
     "input": [
      "import time\n",
      "\n",
      "def timing(f):\n",
      "    def wrap(*args):\n",
      "        time1 = time.time()\n",
      "        ret = f(*args)\n",
      "        time2 = time.time()\n",
      "        print '%s function took %0.3f seconds' % (f.func_name, (time2-time1))\n",
      "        return ret\n",
      "    return wrap\n",
      "\n",
      "@timing\n",
      "def features_transformer(features):\n",
      "    feature_matrix = []\n",
      "    transformer = []\n",
      "    for i in features:\n",
      "        start_time = time.time()\n",
      "        fm,t = build_feature_matrix(train_subset,i)\n",
      "        feature_matrix.append(fm)\n",
      "        transformer.append(t)\n",
      "        elapsed_time = time.time()-start_time\n",
      "        print '%d features took %d seconds'%(i,elapsed_time)\n",
      "    return (feature_matrix,transformer)"
     ],
     "language": "python",
     "metadata": {},
     "outputs": [],
     "prompt_number": 123
    },
    {
     "cell_type": "code",
     "collapsed": false,
     "input": [],
     "language": "python",
     "metadata": {},
     "outputs": [],
     "prompt_number": 91
    },
    {
     "cell_type": "code",
     "collapsed": false,
     "input": [
      "features = range(50,1000,50)\n",
      "features_mat,transformers = features_transformer(features)"
     ],
     "language": "python",
     "metadata": {},
     "outputs": [
      {
       "output_type": "stream",
       "stream": "stdout",
       "text": [
        "50 features took 76 seconds\n",
        "100 features took 75 seconds"
       ]
      },
      {
       "output_type": "stream",
       "stream": "stdout",
       "text": [
        "\n",
        "150 features took 75 seconds"
       ]
      },
      {
       "output_type": "stream",
       "stream": "stdout",
       "text": [
        "\n",
        "200 features took 84 seconds"
       ]
      },
      {
       "output_type": "stream",
       "stream": "stdout",
       "text": [
        "\n",
        "250 features took 86 seconds"
       ]
      },
      {
       "output_type": "stream",
       "stream": "stdout",
       "text": [
        "\n",
        "300 features took 81 seconds"
       ]
      },
      {
       "output_type": "stream",
       "stream": "stdout",
       "text": [
        "\n",
        "350 features took 80 seconds"
       ]
      },
      {
       "output_type": "stream",
       "stream": "stdout",
       "text": [
        "\n",
        "400 features took 78 seconds"
       ]
      },
      {
       "output_type": "stream",
       "stream": "stdout",
       "text": [
        "\n",
        "450 features took 78 seconds"
       ]
      },
      {
       "output_type": "stream",
       "stream": "stdout",
       "text": [
        "\n",
        "500 features took 78 seconds"
       ]
      },
      {
       "output_type": "stream",
       "stream": "stdout",
       "text": [
        "\n",
        "550 features took 78 seconds"
       ]
      },
      {
       "output_type": "stream",
       "stream": "stdout",
       "text": [
        "\n",
        "600 features took 77 seconds"
       ]
      },
      {
       "output_type": "stream",
       "stream": "stdout",
       "text": [
        "\n",
        "650 features took 77 seconds"
       ]
      },
      {
       "output_type": "stream",
       "stream": "stdout",
       "text": [
        "\n",
        "700 features took 77 seconds"
       ]
      },
      {
       "output_type": "stream",
       "stream": "stdout",
       "text": [
        "\n",
        "750 features took 80 seconds"
       ]
      },
      {
       "output_type": "stream",
       "stream": "stdout",
       "text": [
        "\n",
        "800 features took 108 seconds"
       ]
      },
      {
       "output_type": "stream",
       "stream": "stdout",
       "text": [
        "\n",
        "850 features took 108 seconds"
       ]
      },
      {
       "output_type": "stream",
       "stream": "stdout",
       "text": [
        "\n",
        "900 features took 108 seconds"
       ]
      },
      {
       "output_type": "stream",
       "stream": "stdout",
       "text": [
        "\n",
        "950 features took 107 seconds"
       ]
      },
      {
       "output_type": "stream",
       "stream": "stdout",
       "text": [
        "\n",
        "features_transformer function took 1619.502 seconds\n"
       ]
      }
     ],
     "prompt_number": 124
    },
    {
     "cell_type": "code",
     "collapsed": false,
     "input": [
      "train_features= []\n",
      "test_features = []\n",
      "train_labels = []\n",
      "test_labels = []\n",
      "for i in features_mat:\n",
      "    trf,tef,trl,tel = train_test_split(i,pd.DataFrame(train_subset['polar']),test_size=0.20)\n",
      "    train_features.append(trf)\n",
      "    test_features.append(tef)\n",
      "    train_labels.append(trl)\n",
      "    test_labels.append(tel)\n",
      "    \n",
      "train_labels = [np.ravel(i) for i in train_labels]\n",
      "test_labels = [np.ravel(i) for i in test_labels]"
     ],
     "language": "python",
     "metadata": {},
     "outputs": [],
     "prompt_number": 125
    },
    {
     "cell_type": "code",
     "collapsed": false,
     "input": [
      "rf_clfs = [RandomForestClassifier(n_estimators=100,verbose=0,n_jobs=1,random_state=None).fit(train_features[i],train_labels[i]) for i in range(0,len(train_features))]\n",
      "rf_prfs = [precision_recall_fscore_support(test_labels[i],rf_clfs[i].predict(test_features[i]),pos_label='4') for i in range(0,len(test_features))]\n",
      "\n",
      "mnb_clfs = [MultinomialNB(alpha=1.0,fit_prior=True,class_prior=None).fit(train_features[i],train_labels[i]) for i in range(0,len(train_features))]\n",
      "mnb_prfs = [precision_recall_fscore_support(test_labels[i],mnb_clfs[i].predict(test_features[i]),pos_label='4') for i in range(0,len(test_features))]\n",
      "\n"
     ],
     "language": "python",
     "metadata": {},
     "outputs": [],
     "prompt_number": 126
    },
    {
     "cell_type": "code",
     "collapsed": false,
     "input": [
      "rf_score = [rf_clfs[i].score(test_features[i],test_labels[i]) for i in range(0,len(test_features))]\n",
      "mnb_score = [mnb_clfs[i].score(test_features[i],test_labels[i]) for i in range(0,len(test_features))]"
     ],
     "language": "python",
     "metadata": {},
     "outputs": [],
     "prompt_number": 127
    },
    {
     "cell_type": "code",
     "collapsed": false,
     "input": [
      "fscores_pos_mnb = [np.array(mnb_prfs[i][2][1]) for i in range(0,len(mnb_prfs))]\n",
      "fscores_pos_rf = [np.array(rf_prfs[i][2][1]) for i in range(0,len(rf_prfs))]"
     ],
     "language": "python",
     "metadata": {},
     "outputs": [],
     "prompt_number": 128
    },
    {
     "cell_type": "code",
     "collapsed": false,
     "input": [
      "pl.clf()\n",
      "pl.title('Features vs F-score')\n",
      "#pl.plot([50,100,200,400,800],fscores_pos,label='Multinomial_Bayes F-score')\n",
      "pl.plot(features,fscores_pos_rf,label='Random Forest F-score')\n",
      "pl.plot(features,fscores_pos_mnb,label='Multinomial_Bayes F-score')\n",
      "\n",
      "pl.xlabel('# of Features')\n",
      "pl.ylabel('accuracy')\n",
      "\n",
      "pl.legend(loc=\"upper right\")\n",
      "pl.show()"
     ],
     "language": "python",
     "metadata": {},
     "outputs": [
      {
       "metadata": {},
       "output_type": "display_data",
       "png": "[encoded data removed]",
       "text": [
        "<matplotlib.figure.Figure at 0x112d6e3d0>"
       ]
      }
     ],
     "prompt_number": 130
    },
    {
     "cell_type": "code",
     "collapsed": false,
     "input": [
      "import pymongo\n",
      "connection = pymongo.MongoClient('localhost'"
     ],
     "language": "python",
     "metadata": {},
     "outputs": []
    }
   ],
   "metadata": {}
  }
 ]
}