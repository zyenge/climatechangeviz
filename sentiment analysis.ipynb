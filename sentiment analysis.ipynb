{
 "metadata": {
  "name": ""
 },
 "nbformat": 3,
 "nbformat_minor": 0,
 "worksheets": [
  {
   "cells": [
    {
     "cell_type": "code",
     "collapsed": false,
     "input": [
      "import pandas as pd\n",
      "import enchant\n",
      "import re\n",
      "import numpy as np\n",
      "\"\"\"\n",
      "pos=['funny movie, i enjoyed it','luv it',\"highly recommend, wouldn't miss it for the world\",\"what an awesome movie\"]\n",
      "neg=['it sucks','boring, waste of time', 'i hate it,i cannot think of anyone who would like it',\"it's terriable, it sucks so much, i want my money and time back\"]\n",
      "\n",
      "pos_df=pd.DataFrame(pos, columns=[\"review\"])\n",
      "pos_df['polar']=1\n",
      "neg_df=pd.DataFrame(neg, columns=[\"review\"])\n",
      "neg_df['polar']=-1\n",
      "\n",
      "df=pos_df.append(neg_df,ignore_index=True) \n",
      "#--------------------\n",
      "\"\"\"\n",
      "#200+tag+emoticon(1+1)+len(sentence)\n",
      "## Read in data\n",
      "location_dir='/Users/zyenge/Dropbox/climatechangeviz/'\n",
      "#location_dir='../'\n",
      "train=pd.read_csv(location_dir+'trainingandtestdata/training.1600000.processed.noemoticon.csv',header=None)\n",
      "test=pd.read_csv(location_dir+'trainingandtestdata/testdata.manual.2009.06.14.csv',header=None)\n",
      "train_df=pd.DataFrame({'tweets':train[5],'polar':train[0]})\n",
      "test_df=pd.DataFrame({'tweets':test[5],'polar':test[0]})\n",
      "\n",
      "# a subset\n",
      "train_subset=pd.concat([train_df[:50],train_df[-50:]])\n",
      "train_subset\n",
      "\n",
      "\n",
      "#d.check('li')\n",
      "#d.suggest('booked')\n",
      "\n",
      "\n",
      "\n",
      "\"\"\"cleanning sequence:\n",
      "        0. remove url, @user,# -> ',', emoticon -- http://datagenetics.com/blog/october52012/index.html\n",
      "        2. if spell check is false:\n",
      "            if it's a word \"if re.match('^[a-zA-Z\\']+$',\"trainingLate\"):\"\n",
      "             try find in replace keyword dict\n",
      "             if not found: d.suggest[0]\n",
      "             elif no suggestion: shorten\n",
      "             then spell check...\n",
      "\n",
      "\n",
      "        3. tagging \n",
      "        4. remove '-','_','(',')', etc \n",
      "        5. stemming\n",
      "        #5. replace keywords (not enough training)\n",
      "\n",
      "    \"\"\"\n"
     ],
     "language": "python",
     "metadata": {},
     "outputs": [
      {
       "metadata": {},
       "output_type": "pyout",
       "prompt_number": 16,
       "text": [
        "'cleanning sequence:\\n        0. remove url, @user,# -> \\',\\', emoticon -- http://datagenetics.com/blog/october52012/index.html\\n        2. if spell check is false:\\n            if it\\'s a word \"if re.match(\\'^[a-zA-Z\\']+$\\',\"trainingLate\"):\"\\n             try find in replace keyword dict\\n             if not found: d.suggest[0]\\n             elif no suggestion: shorten\\n             then spell check...\\n\\n\\n        3. tagging \\n        4. remove \\'-\\',\\'_\\',\\'(\\',\\')\\', etc \\n        5. stemming\\n        #5. replace keywords (not enough training)\\n\\n    '"
       ]
      }
     ],
     "prompt_number": 16
    },
    {
     "cell_type": "code",
     "collapsed": false,
     "input": [
      "\n",
      "#pos_string='i <3 justin b, u r the best! xoxo'\n",
      "#neg_string='it\\'s said that young people are blindly following jb..:('\n",
      "\n",
      "\n",
      "pos_emoticons=set([])\n",
      "neg_emoticons=set([])\n",
      "location_dir='/Users/zyenge/Dropbox/climatechangeviz/'\n",
      "#location_dir = ''\n",
      "#smiley:\n",
      "with open(location_dir+'pos_emoticon.txt') as f:\n",
      "    for line in f:\n",
      "        pos_emoticons.add(line.rstrip('\\n'))\n",
      "#frowney:\n",
      "with open(location_dir+'neg_emoticon.txt') as f:\n",
      "    for line in f:\n",
      "        neg_emoticons.add(line.rstrip('\\n'))\n",
      "\n",
      "        \n",
      "\n",
      "\"\"\"1. remove url, @user, \n",
      "    2. # -> ',' \n",
      "    3. detect and remove emoticon\"\"\"\n",
      "\n",
      "def strip_tweet(tweet):\n",
      "    no_url=re.sub('((www\\.[^\\s]+)|(http[^\\s]+))','',tweet)\n",
      "    #print no_url\n",
      "    no_user=re.sub('@[^\\s]+','',no_url)\n",
      "    #print no_user\n",
      "    no_hashtag=re.sub(r'#([^\\s#]+)', r'\\1,', no_user)\n",
      "    #print no_hashtag\n",
      "    return no_hashtag   \n",
      "        \n",
      "def find_emoticons(tweet):\n",
      "    c=0\n",
      "    count=np.array([0,0])\n",
      "    while c< len(tweet):\n",
      "        two_char=tweet[c:c+2]\n",
      "        three_char=tweet[c:c+3]\n",
      "        if two_char in pos_emoticons:\n",
      "            tweet=tweet[:c]+' '+tweet[c+2:]\n",
      "            count+=np.array([1,0])\n",
      "        elif three_char in pos_emoticons:\n",
      "            tweet=tweet[:c]+' '+tweet[c+3:]\n",
      "            count+=np.array([1,0])\n",
      "        elif two_char in neg_emoticons:\n",
      "            tweet=tweet[:c]+' '+tweet[c+2:]\n",
      "            count+=np.array([0,1])\n",
      "        elif three_char in neg_emoticons:\n",
      "            tweet=tweet[:c]+' '+tweet[c+3:]\n",
      "            count+=np.array([0,1])\n",
      "        c+=1\n",
      "    return (tweet,count)\n",
      "\n",
      "\n",
      "emoticon_feature=[]\n",
      "for i in train_subset['tweets']:\n",
      "    tweet_pair=find_emoticons(strip_tweet(i))\n",
      "    emoticon_feature.append(tweet_pair[1])\n",
      "\n",
      "#emoticon_features=pd.DataFrame(emoticon_feature)\n",
      "\n",
      "\n",
      "\"\"\"\n",
      "if re.match('^[a-zA-Z\\']+$',\"I'm\"):\n",
      "    print True\n",
      "else:\n",
      "    print False\n",
      "\"\"\""
     ],
     "language": "python",
     "metadata": {},
     "outputs": [
      {
       "metadata": {},
       "output_type": "pyout",
       "prompt_number": 17,
       "text": [
        "'\\nif re.match(\\'^[a-zA-Z\\']+$\\',\"I\\'m\"):\\n    print True\\nelse:\\n    print False\\n'"
       ]
      }
     ],
     "prompt_number": 17
    },
    {
     "cell_type": "code",
     "collapsed": false,
     "input": [
      "test_tweet='@biggestfan#justin#lmao,http://somelink_to_someplace.com i <3 justin b, u r the best! xoxo'\n",
      "test_tweet_stripped = find_emoticons(strip_tweet(test_tweet))\n",
      "text = test_tweet_stripped[0].split()\n",
      "print text\n",
      "for i in range(0,len(text)):\n",
      "    temp = ''.join([e if e not in puncset else '' for e in text[i]])\n",
      "    rword = replace_word_adj(temp)\n",
      "    text[i] = text[i].replace(temp,rword)\n",
      "print text"
     ],
     "language": "python",
     "metadata": {},
     "outputs": [
      {
       "output_type": "stream",
       "stream": "stdout",
       "text": [
        "['i', 'justin', 'b,', 'u', 'r', 'the', 'best!', 'xoxo']\n",
        "['i', 'Justin', 'b,', 'you', 'are', 'the', 'best!', 'xoxo']\n"
       ]
      }
     ],
     "prompt_number": 19
    },
    {
     "cell_type": "code",
     "collapsed": false,
     "input": [
      "\"\"\"spell check and replace word\n",
      "\n",
      "if spell check is false:\n",
      "            if it's a word \"if re.match('^[a-zA-Z\\']+$',\"trainingLate\"):\"\n",
      "             try find in replace keyword dict\n",
      "             if not found: d.suggest[0]\n",
      "             elif no suggestion: shorten\n",
      "             then spell check...\n",
      "             \n",
      "\"\"\"\n",
      "import enchant\n",
      "import string\n",
      "import yaml\n",
      "with open(\"web_words.yaml\", 'r') as f:\n",
      "    web_dict = yaml.load(f)\n",
      "\n",
      "puncset=set(string.punctuation) \n",
      "\n",
      "d=enchant.Dict('en-US')\n",
      "\n",
      "def shorten_word(word):\n",
      "    shortened=''\n",
      "    for c,i in enumerate(word):\n",
      "        if c<len(word)-1 and i!=word[c+1] or c==len(word)-1:\n",
      "            shortened=shortened+i\n",
      "    return shortened\n",
      "shorten_word('vvveeeeelll')\n",
      "\n",
      "\n",
      "def spell_check(tweet):\n",
      "    for w in tweet.split():\n",
      "        stripped_w=''.join([e if e not in puncset else '' for e in w])"
     ],
     "language": "python",
     "metadata": {},
     "outputs": [],
     "prompt_number": 10
    },
    {
     "cell_type": "code",
     "collapsed": false,
     "input": [
      "print test_tweet\n",
      "pop_tweet=test_tweet\n",
      "tweet_list=test_tweet.split()\n",
      "l=0\n",
      "while l<len(tweet_list):\n",
      "    stripped_w=''.join([e if e not in puncset else '' for e in tweet_list[l]])\n",
      "    tweet_list[l]=replace_word(stripped_w)\n",
      "print tweet_list"
     ],
     "language": "python",
     "metadata": {},
     "outputs": [
      {
       "ename": "NameError",
       "evalue": "name 'replace_word' is not defined",
       "output_type": "pyerr",
       "traceback": [
        "\u001b[0;31m---------------------------------------------------------------------------\u001b[0m\n\u001b[0;31mNameError\u001b[0m                                 Traceback (most recent call last)",
        "\u001b[0;32m<ipython-input-11-663ec2665d73>\u001b[0m in \u001b[0;36m<module>\u001b[0;34m()\u001b[0m\n\u001b[1;32m      5\u001b[0m \u001b[0;32mwhile\u001b[0m \u001b[0ml\u001b[0m\u001b[0;34m<\u001b[0m\u001b[0mlen\u001b[0m\u001b[0;34m(\u001b[0m\u001b[0mtweet_list\u001b[0m\u001b[0;34m)\u001b[0m\u001b[0;34m:\u001b[0m\u001b[0;34m\u001b[0m\u001b[0m\n\u001b[1;32m      6\u001b[0m     \u001b[0mstripped_w\u001b[0m\u001b[0;34m=\u001b[0m\u001b[0;34m''\u001b[0m\u001b[0;34m.\u001b[0m\u001b[0mjoin\u001b[0m\u001b[0;34m(\u001b[0m\u001b[0;34m[\u001b[0m\u001b[0me\u001b[0m \u001b[0;32mif\u001b[0m \u001b[0me\u001b[0m \u001b[0;32mnot\u001b[0m \u001b[0;32min\u001b[0m \u001b[0mpuncset\u001b[0m \u001b[0;32melse\u001b[0m \u001b[0;34m''\u001b[0m \u001b[0;32mfor\u001b[0m \u001b[0me\u001b[0m \u001b[0;32min\u001b[0m \u001b[0mtweet_list\u001b[0m\u001b[0;34m[\u001b[0m\u001b[0ml\u001b[0m\u001b[0;34m]\u001b[0m\u001b[0;34m]\u001b[0m\u001b[0;34m)\u001b[0m\u001b[0;34m\u001b[0m\u001b[0m\n\u001b[0;32m----> 7\u001b[0;31m     \u001b[0mtweet_list\u001b[0m\u001b[0;34m[\u001b[0m\u001b[0ml\u001b[0m\u001b[0;34m]\u001b[0m\u001b[0;34m=\u001b[0m\u001b[0mreplace_word\u001b[0m\u001b[0;34m(\u001b[0m\u001b[0mstripped_w\u001b[0m\u001b[0;34m)\u001b[0m\u001b[0;34m\u001b[0m\u001b[0m\n\u001b[0m\u001b[1;32m      8\u001b[0m \u001b[0;32mprint\u001b[0m \u001b[0mtweet_list\u001b[0m\u001b[0;34m\u001b[0m\u001b[0m\n",
        "\u001b[0;31mNameError\u001b[0m: name 'replace_word' is not defined"
       ]
      },
      {
       "output_type": "stream",
       "stream": "stdout",
       "text": [
        "@biggestfan#justin#lmao,http://somelink_to_someplace.com i <3 just!n b, u r the best! xoxo\n"
       ]
      }
     ],
     "prompt_number": 11
    },
    {
     "cell_type": "code",
     "collapsed": false,
     "input": [
      "def replace_word(word):\n",
      "    if d.check(word)==True:\n",
      "        return word\n",
      "    else:\n",
      "        if word in web_dict:\n",
      "            return web_dict[word]\n",
      "        elif len(d.suggest(word))!=0: \n",
      "            return d.suggest(word)[0]\n",
      "        elif len(d.suggest(word))==0 and shorten_word(word)==word:\n",
      "            return word\n",
      "        else:\n",
      "            return replace_word(shorten_word(word))"
     ],
     "language": "python",
     "metadata": {},
     "outputs": [],
     "prompt_number": 12
    },
    {
     "cell_type": "code",
     "collapsed": false,
     "input": [
      "def replace_word_adj(word):\n",
      "    if word in web_dict:\n",
      "        return web_dict[word]\n",
      "    else:\n",
      "        if d.check(word)==True:\n",
      "            return word\n",
      "        elif len(d.suggest(word))!=0: \n",
      "            return d.suggest(word)[0]\n",
      "        elif len(d.suggest(word))==0 and shorten_word(word)==word:\n",
      "            return word\n",
      "        else:\n",
      "            return replace_word(shorten_word(word))"
     ],
     "language": "python",
     "metadata": {},
     "outputs": [],
     "prompt_number": 13
    }
   ],
   "metadata": {}
  }
 ]
}